{
 "cells": [
  {
   "cell_type": "markdown",
   "id": "5ad88238",
   "metadata": {},
   "source": [
    "# PROJECT"
   ]
  },
  {
   "cell_type": "markdown",
   "id": "563e0b46",
   "metadata": {},
   "source": [
    "# Medical Insurance"
   ]
  },
  {
   "cell_type": "code",
   "execution_count": 1,
   "id": "27d768e0",
   "metadata": {},
   "outputs": [
    {
     "name": "stdout",
     "output_type": "stream",
     "text": [
      "Mean Absolute Error: 2550.67015143483\n",
      "Mean Squared Error: 20955694.239791505\n",
      "R squared Score: 0.8650185799366616\n"
     ]
    }
   ],
   "source": [
    "import pandas as pd\n",
    "from sklearn.model_selection import train_test_split\n",
    "from sklearn.ensemble import RandomForestRegressor\n",
    "from sklearn.metrics import mean_absolute_error, mean_squared_error, r2_score\n",
    "from sklearn.preprocessing import LabelEncoder, OneHotEncoder\n",
    "\n",
    "insurance_data = pd.read_csv(\"medical_cost_insurance.csv\")\n",
    "le = LabelEncoder()\n",
    "insurance_data['sex'] = le.fit_transform(insurance_data['sex'])\n",
    "insurance_data['smoker'] = le.fit_transform(insurance_data['smoker'])\n",
    "insurance_data = pd.get_dummies(insurance_data, columns=['region'], drop_first=True)\n",
    "X = insurance_data.drop('charges', axis=1)\n",
    "y = insurance_data['charges']\n",
    "\n",
    "X_train, X_test, y_train, y_test = train_test_split(X, y, test_size=0.2, random_state=42)\n",
    "\n",
    "rf_regressor = RandomForestRegressor(random_state=42)\n",
    "rf_regressor.fit(X_train, y_train)\n",
    "\n",
    "y_pred = rf_regressor.predict(X_test)\n",
    "\n",
    "meanabser = mean_absolute_error(y_test, y_pred)\n",
    "meansqarer = mean_squared_error(y_test, y_pred)\n",
    "r2 = r2_score(y_test, y_pred)\n",
    "\n",
    "print(\"Mean Absolute Error:\", meanabser)\n",
    "print(\"Mean Squared Error:\", meansqarer)\n",
    "print(\"R squared Score:\", r2)\n"
   ]
  }
 ],
 "metadata": {
  "kernelspec": {
   "display_name": "Python 3 (ipykernel)",
   "language": "python",
   "name": "python3"
  },
  "language_info": {
   "codemirror_mode": {
    "name": "ipython",
    "version": 3
   },
   "file_extension": ".py",
   "mimetype": "text/x-python",
   "name": "python",
   "nbconvert_exporter": "python",
   "pygments_lexer": "ipython3",
   "version": "3.11.3"
  }
 },
 "nbformat": 4,
 "nbformat_minor": 5
}
