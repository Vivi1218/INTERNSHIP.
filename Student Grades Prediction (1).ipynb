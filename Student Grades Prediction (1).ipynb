{
 "cells": [
  {
   "cell_type": "markdown",
   "id": "d753a367",
   "metadata": {},
   "source": [
    "\n",
    "# Student Grades Prediction"
   ]
  },
  {
   "cell_type": "code",
   "execution_count": 18,
   "id": "cfd14040",
   "metadata": {},
   "outputs": [
    {
     "name": "stdout",
     "output_type": "stream",
     "text": [
      "Training R2 Score: 1.0\n",
      "Testing R2 Score: 0.9918715924035603\n"
     ]
    }
   ],
   "source": [
    "import pandas as pd\n",
    "from sklearn.model_selection import train_test_split\n",
    "from sklearn.linear_model import LinearRegression\n",
    "from sklearn.metrics import r2_score\n",
    "\n",
    "df = pd.read_csv(\"Grades.csv\")\n",
    "\n",
    "df.dropna(inplace=True)\n",
    "\n",
    "df_encoded = pd.get_dummies(df)\n",
    "\n",
    "X = df_encoded.drop(columns=['CGPA']) \n",
    "y = df_encoded['CGPA'] \n",
    "\n",
    "\n",
    "X_train, X_test, y_train, y_test = train_test_split(X, y, test_size=0.2, random_state=42)\n",
    "\n",
    "model = LinearRegression()\n",
    "model.fit(X_train, y_train)\n",
    "\n",
    "train_r2_score = model.score(X_train, y_train)\n",
    "test_r2_score = model.score(X_test, y_test)\n",
    "\n",
    "print(\"Training R2 Score:\", train_r2_score)\n",
    "print(\"Testing R2 Score:\", test_r2_score)\n"
   ]
  },
  {
   "cell_type": "markdown",
   "id": "8a5eb8f5",
   "metadata": {},
   "source": [
    "# Conclusion"
   ]
  },
  {
   "cell_type": "markdown",
   "id": "adff26a5",
   "metadata": {},
   "source": [
    "The  model is performing well"
   ]
  },
  {
   "cell_type": "code",
   "execution_count": null,
   "id": "172c115f",
   "metadata": {},
   "outputs": [],
   "source": []
  }
 ],
 "metadata": {
  "kernelspec": {
   "display_name": "Python 3 (ipykernel)",
   "language": "python",
   "name": "python3"
  },
  "language_info": {
   "codemirror_mode": {
    "name": "ipython",
    "version": 3
   },
   "file_extension": ".py",
   "mimetype": "text/x-python",
   "name": "python",
   "nbconvert_exporter": "python",
   "pygments_lexer": "ipython3",
   "version": "3.11.3"
  }
 },
 "nbformat": 4,
 "nbformat_minor": 5
}
