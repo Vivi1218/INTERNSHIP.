{
 "cells": [
  {
   "cell_type": "markdown",
   "id": "608cdd8d",
   "metadata": {},
   "source": [
    "Question 1- Write a Python program to replace all occurrences of a space, comma, or dot with a colon.\n",
    "Sample Text- 'Python Exercises, PHP exercises.'\n",
    "Expected Output: Python:Exercises::PHP:exercises:\n"
   ]
  },
  {
   "cell_type": "code",
   "execution_count": 7,
   "id": "fe14a9bc",
   "metadata": {},
   "outputs": [
    {
     "name": "stdout",
     "output_type": "stream",
     "text": [
      "Morning:Vibes::Midnight:silence:\n"
     ]
    }
   ],
   "source": [
    "import re\n",
    "a = 'Morning Vibes, Midnight silence.'\n",
    "pattern = re.sub(r'[ ,.]',r':',a)\n",
    "print(pattern)"
   ]
  },
  {
   "cell_type": "markdown",
   "id": "dcc5c520",
   "metadata": {},
   "source": [
    "Question 2-  Create a dataframe using the dictionary below and remove everything (commas (,), !, XXXX, ;, etc.) from the columns except words.\n",
    "Dictionary- {'SUMMARY' : ['hello, world!', 'XXXXX test', '123four, five:; six...']}\n",
    "Expected output-\n",
    "0      hello world\n",
    "1             test\n",
    "2    four five six\n"
   ]
  },
  {
   "cell_type": "code",
   "execution_count": 26,
   "id": "1f63a07c",
   "metadata": {},
   "outputs": [
    {
     "name": "stdout",
     "output_type": "stream",
     "text": [
      "hello world\n",
      "XXXXX test\n",
      "123four five six\n"
     ]
    }
   ],
   "source": [
    "import pandas as pd\n",
    "b = ['hello, world!', 'XXXXX test', '123four, five:; six...']\n",
    "for i in b:\n",
    "    pattern = re.sub(r'[.,!;:]',r'',i)\n",
    "    print(pattern)\n",
    "    \n"
   ]
  },
  {
   "cell_type": "code",
   "execution_count": 30,
   "id": "97abaa7f",
   "metadata": {},
   "outputs": [],
   "source": [
    "import pandas as pd\n",
    "import re\n",
    "\n",
    "data = {'SUMMARY': ['hello, world!', 'XXXXX test', '123four, five:; six...']}\n",
    "df = pd.DataFrame(data)\n",
    "df['SUMMARY'] = df['SUMMARY'].apply(lambda x: re.sub(r'[^\\w\\s]', '', x))"
   ]
  },
  {
   "cell_type": "code",
   "execution_count": 31,
   "id": "7a63dd9b",
   "metadata": {},
   "outputs": [
    {
     "data": {
      "text/html": [
       "<div>\n",
       "<style scoped>\n",
       "    .dataframe tbody tr th:only-of-type {\n",
       "        vertical-align: middle;\n",
       "    }\n",
       "\n",
       "    .dataframe tbody tr th {\n",
       "        vertical-align: top;\n",
       "    }\n",
       "\n",
       "    .dataframe thead th {\n",
       "        text-align: right;\n",
       "    }\n",
       "</style>\n",
       "<table border=\"1\" class=\"dataframe\">\n",
       "  <thead>\n",
       "    <tr style=\"text-align: right;\">\n",
       "      <th></th>\n",
       "      <th>SUMMARY</th>\n",
       "    </tr>\n",
       "  </thead>\n",
       "  <tbody>\n",
       "    <tr>\n",
       "      <th>0</th>\n",
       "      <td>hello world</td>\n",
       "    </tr>\n",
       "    <tr>\n",
       "      <th>1</th>\n",
       "      <td>XXXXX test</td>\n",
       "    </tr>\n",
       "    <tr>\n",
       "      <th>2</th>\n",
       "      <td>123four five six</td>\n",
       "    </tr>\n",
       "  </tbody>\n",
       "</table>\n",
       "</div>"
      ],
      "text/plain": [
       "            SUMMARY\n",
       "0       hello world\n",
       "1        XXXXX test\n",
       "2  123four five six"
      ]
     },
     "execution_count": 31,
     "metadata": {},
     "output_type": "execute_result"
    }
   ],
   "source": [
    "df"
   ]
  },
  {
   "cell_type": "markdown",
   "id": "01ff7fd8",
   "metadata": {},
   "source": [
    "Question 3- Create a function in python to find all words that are at least 4 characters long in a string. The use of the re.compile() method is mandatory."
   ]
  },
  {
   "cell_type": "code",
   "execution_count": 39,
   "id": "8a0f60a2",
   "metadata": {},
   "outputs": [],
   "source": [
    "import re\n",
    "\n",
    "def find_words(string):\n",
    "  pattern = re.compile(r'\\b\\w{4,}\\b')\n",
    "  matches = pattern.findall(string)\n",
    "  return matches"
   ]
  },
  {
   "cell_type": "code",
   "execution_count": 40,
   "id": "e1add4dc",
   "metadata": {},
   "outputs": [
    {
     "name": "stdout",
     "output_type": "stream",
     "text": [
      "['Four', 'characters', 'long', 'string', 'next', 'task']\n"
     ]
    }
   ],
   "source": [
    "string = \"Four characters long string is my next task\"\n",
    "result = find_words(string)\n",
    "print(result)"
   ]
  },
  {
   "cell_type": "markdown",
   "id": "bbe4f7e3",
   "metadata": {},
   "source": [
    "Question 4- Create a function in python to find all three, four, and five character words in a string. The use of the re.compile() method is mandatory."
   ]
  },
  {
   "cell_type": "code",
   "execution_count": 41,
   "id": "e3acb1aa",
   "metadata": {},
   "outputs": [],
   "source": [
    "import re\n",
    "\n",
    "def find_it(string):\n",
    "    pattern = re.compile(r\"\\b\\w{3,5}\\b\")\n",
    "    matches = pattern.findall(string)\n",
    "    return matches"
   ]
  },
  {
   "cell_type": "code",
   "execution_count": 42,
   "id": "ce2c458b",
   "metadata": {},
   "outputs": [
    {
     "name": "stdout",
     "output_type": "stream",
     "text": [
      "['Today', 'great', 'day']\n"
     ]
    }
   ],
   "source": [
    "string = \"Today is a great day\"\n",
    "result = find_it(string)\n",
    "print(result)"
   ]
  },
  {
   "cell_type": "markdown",
   "id": "eee32083",
   "metadata": {},
   "source": [
    "Question 5- Create a function in Python to remove the parenthesis in a list of strings. The use of the re.compile() method is mandatory.\n",
    "Sample Text: [\"example (.com)\", \"hr@fliprobo (.com)\", \"github (.com)\", \"Hello (Data Science World)\", \"Data (Scientist)\"]\n",
    "Expected Output:\n",
    "example.com\n",
    "hr@fliprobo.com\n",
    "github.com\n",
    "Hello Data Science World\n"
   ]
  },
  {
   "cell_type": "code",
   "execution_count": 54,
   "id": "472fec27",
   "metadata": {},
   "outputs": [
    {
     "name": "stdout",
     "output_type": "stream",
     "text": [
      "example.com\n",
      "hr@fliprobo.com\n",
      "github.com\n",
      "HelloDataScienceWorld\n",
      "DataScientist\n"
     ]
    }
   ],
   "source": [
    "import re\n",
    "\n",
    "def myfun(strings_list):\n",
    "    pattern = re.compile(r'[()\\s]')\n",
    "    cleaned_strings = [pattern.sub('', string) for string in strings_list]\n",
    "    return cleaned_strings\n",
    "sample_text = [\"example (.com)\", \"hr@fliprobo (.com)\", \"github (.com)\", \"Hello (Data Science World)\", \"Data (Scientist)\"]\n",
    "output_text = myfun(sample_text)\n",
    "for string in output_text:\n",
    "    print(string)"
   ]
  },
  {
   "cell_type": "markdown",
   "id": "d34e5e94",
   "metadata": {},
   "source": [
    "\n",
    "Question 6- Write a python program to remove the parenthesis area from the text stored in the text file using Regular Expression.\n",
    "Sample Text: [\"example (.com)\", \"hr@fliprobo (.com)\", \"github (.com)\", \"Hello (Data Science World)\", \"Data (Scientist)\"]\n",
    "Expected Output: [\"example\", \"hr@fliprobo\", \"github\", \"Hello\", \"Data\"]\n",
    "Note- Store given sample text in the text file and then to remove the parenthesis area from the text\n"
   ]
  },
  {
   "cell_type": "code",
   "execution_count": 55,
   "id": "b1a4f69e",
   "metadata": {},
   "outputs": [
    {
     "name": "stdout",
     "output_type": "stream",
     "text": [
      "[': [\"example\", \"hr@fliprobo\", \"github\", \"Hello\", \"Data\"]']\n"
     ]
    }
   ],
   "source": [
    "import re\n",
    "with open('C:\\\\Users\\\\VIV\\\\OneDrive\\\\Documents\\\\examples.txt', 'r') as file:\n",
    "    lines = file.readlines()\n",
    "pattern = re.compile(r'\\s*\\([^)]*\\)')\n",
    "modified_lines = [re.sub(pattern, '', line).strip() for line in lines]\n",
    "print(modified_lines)"
   ]
  },
  {
   "cell_type": "markdown",
   "id": "dfaecde9",
   "metadata": {},
   "source": [
    "Question 7- Write a regular expression in Python to split a string into uppercase letters.\n",
    "Sample text: “ImportanceOfRegularExpressionsInPython”\n",
    "Expected Output: [‘Importance’, ‘Of’, ‘Regular’, ‘Expression’, ‘In’, ‘Python’]\n"
   ]
  },
  {
   "cell_type": "code",
   "execution_count": 56,
   "id": "5046d637",
   "metadata": {},
   "outputs": [
    {
     "name": "stdout",
     "output_type": "stream",
     "text": [
      "['Importance', 'Of', 'Regular', 'Expressions', 'In', 'Python']\n"
     ]
    }
   ],
   "source": [
    "sample_text = \"ImportanceOfRegularExpressionsInPython\"\n",
    "pattern = r'[A-Z][a-z]*'\n",
    "uppercase_words = re.findall(pattern, sample_text)\n",
    "print(uppercase_words)\n"
   ]
  },
  {
   "cell_type": "markdown",
   "id": "59485b67",
   "metadata": {},
   "source": [
    "Question 8- Create a function in python to insert spaces between words starting with numbers.\n",
    "Sample Text: “RegularExpression1IsAn2ImportantTopic3InPython\"\n",
    "Expected Output: RegularExpression 1IsAn 2ImportantTopic 3InPython\n"
   ]
  },
  {
   "cell_type": "code",
   "execution_count": 57,
   "id": "9c502247",
   "metadata": {},
   "outputs": [
    {
     "name": "stdout",
     "output_type": "stream",
     "text": [
      "RegularExpression 1IsAn 2ImportantTopic 3InPython\n"
     ]
    }
   ],
   "source": [
    "import re\n",
    "\n",
    "def myfun(input_text):\n",
    "    pattern = r'([a-zA-Z]+)(\\d+)'\n",
    "    modified_text = re.sub(pattern, r'\\1 \\2', input_text)\n",
    "    return modified_text\n",
    "sample_text = \"RegularExpression1IsAn2ImportantTopic3InPython\"\n",
    "output_text = myfun(sample_text)\n",
    "print(output_text)"
   ]
  },
  {
   "cell_type": "markdown",
   "id": "025e9777",
   "metadata": {},
   "source": [
    "Question 9- Create a function in python to insert spaces between words starting with capital letters or with numbers.\n",
    "Sample Text: “RegularExpression1IsAn2ImportantTopic3InPython\"\n"
   ]
  },
  {
   "cell_type": "code",
   "execution_count": 58,
   "id": "b84c0d0c",
   "metadata": {},
   "outputs": [
    {
     "name": "stdout",
     "output_type": "stream",
     "text": [
      "Expected Output:\n",
      "Regular Expression 1 Is An 2 Important Topic 3 In Python\n"
     ]
    }
   ],
   "source": [
    "def myfun(text):\n",
    "    pattern = re.compile(r'([A-Z][a-z]*|[0-9]+)')\n",
    "    modified_text = pattern.sub(r' \\1', text).strip()\n",
    "    return modified_text\n",
    "sample_text = \"RegularExpression1IsAn2ImportantTopic3InPython\"\n",
    "output_text = myfun(sample_text)\n",
    "print(\"Expected Output:\")\n",
    "print(output_text)\n"
   ]
  },
  {
   "cell_type": "markdown",
   "id": "aa65a822",
   "metadata": {},
   "source": [
    "Question 10- Use the github link below to read the data and create a dataframe. After creating the dataframe extract the first 6 letters of each country and store in the dataframe under a new column called first_five_letters.\n",
    "Github Link-  https://raw.githubusercontent.com/dsrscientist/DSData/master/happiness_score_dataset.csv\n"
   ]
  },
  {
   "cell_type": "code",
   "execution_count": 122,
   "id": "d0213b5a",
   "metadata": {},
   "outputs": [],
   "source": [
    "import pandas as pd\n",
    "import re\n",
    "import numpy as np"
   ]
  },
  {
   "cell_type": "code",
   "execution_count": 123,
   "id": "a628976b",
   "metadata": {},
   "outputs": [
    {
     "data": {
      "text/html": [
       "<div>\n",
       "<style scoped>\n",
       "    .dataframe tbody tr th:only-of-type {\n",
       "        vertical-align: middle;\n",
       "    }\n",
       "\n",
       "    .dataframe tbody tr th {\n",
       "        vertical-align: top;\n",
       "    }\n",
       "\n",
       "    .dataframe thead th {\n",
       "        text-align: right;\n",
       "    }\n",
       "</style>\n",
       "<table border=\"1\" class=\"dataframe\">\n",
       "  <thead>\n",
       "    <tr style=\"text-align: right;\">\n",
       "      <th></th>\n",
       "      <th>Country</th>\n",
       "      <th>Region</th>\n",
       "      <th>Happiness Rank</th>\n",
       "      <th>Happiness Score</th>\n",
       "      <th>Standard Error</th>\n",
       "      <th>Economy (GDP per Capita)</th>\n",
       "      <th>Family</th>\n",
       "      <th>Health (Life Expectancy)</th>\n",
       "      <th>Freedom</th>\n",
       "      <th>Trust (Government Corruption)</th>\n",
       "      <th>Generosity</th>\n",
       "      <th>Dystopia Residual</th>\n",
       "    </tr>\n",
       "  </thead>\n",
       "  <tbody>\n",
       "    <tr>\n",
       "      <th>0</th>\n",
       "      <td>Switzerland</td>\n",
       "      <td>Western Europe</td>\n",
       "      <td>1</td>\n",
       "      <td>7.587</td>\n",
       "      <td>0.03411</td>\n",
       "      <td>1.39651</td>\n",
       "      <td>1.34951</td>\n",
       "      <td>0.94143</td>\n",
       "      <td>0.66557</td>\n",
       "      <td>0.41978</td>\n",
       "      <td>0.29678</td>\n",
       "      <td>2.51738</td>\n",
       "    </tr>\n",
       "    <tr>\n",
       "      <th>1</th>\n",
       "      <td>Iceland</td>\n",
       "      <td>Western Europe</td>\n",
       "      <td>2</td>\n",
       "      <td>7.561</td>\n",
       "      <td>0.04884</td>\n",
       "      <td>1.30232</td>\n",
       "      <td>1.40223</td>\n",
       "      <td>0.94784</td>\n",
       "      <td>0.62877</td>\n",
       "      <td>0.14145</td>\n",
       "      <td>0.43630</td>\n",
       "      <td>2.70201</td>\n",
       "    </tr>\n",
       "    <tr>\n",
       "      <th>2</th>\n",
       "      <td>Denmark</td>\n",
       "      <td>Western Europe</td>\n",
       "      <td>3</td>\n",
       "      <td>7.527</td>\n",
       "      <td>0.03328</td>\n",
       "      <td>1.32548</td>\n",
       "      <td>1.36058</td>\n",
       "      <td>0.87464</td>\n",
       "      <td>0.64938</td>\n",
       "      <td>0.48357</td>\n",
       "      <td>0.34139</td>\n",
       "      <td>2.49204</td>\n",
       "    </tr>\n",
       "    <tr>\n",
       "      <th>3</th>\n",
       "      <td>Norway</td>\n",
       "      <td>Western Europe</td>\n",
       "      <td>4</td>\n",
       "      <td>7.522</td>\n",
       "      <td>0.03880</td>\n",
       "      <td>1.45900</td>\n",
       "      <td>1.33095</td>\n",
       "      <td>0.88521</td>\n",
       "      <td>0.66973</td>\n",
       "      <td>0.36503</td>\n",
       "      <td>0.34699</td>\n",
       "      <td>2.46531</td>\n",
       "    </tr>\n",
       "    <tr>\n",
       "      <th>4</th>\n",
       "      <td>Canada</td>\n",
       "      <td>North America</td>\n",
       "      <td>5</td>\n",
       "      <td>7.427</td>\n",
       "      <td>0.03553</td>\n",
       "      <td>1.32629</td>\n",
       "      <td>1.32261</td>\n",
       "      <td>0.90563</td>\n",
       "      <td>0.63297</td>\n",
       "      <td>0.32957</td>\n",
       "      <td>0.45811</td>\n",
       "      <td>2.45176</td>\n",
       "    </tr>\n",
       "    <tr>\n",
       "      <th>...</th>\n",
       "      <td>...</td>\n",
       "      <td>...</td>\n",
       "      <td>...</td>\n",
       "      <td>...</td>\n",
       "      <td>...</td>\n",
       "      <td>...</td>\n",
       "      <td>...</td>\n",
       "      <td>...</td>\n",
       "      <td>...</td>\n",
       "      <td>...</td>\n",
       "      <td>...</td>\n",
       "      <td>...</td>\n",
       "    </tr>\n",
       "    <tr>\n",
       "      <th>153</th>\n",
       "      <td>Rwanda</td>\n",
       "      <td>Sub-Saharan Africa</td>\n",
       "      <td>154</td>\n",
       "      <td>3.465</td>\n",
       "      <td>0.03464</td>\n",
       "      <td>0.22208</td>\n",
       "      <td>0.77370</td>\n",
       "      <td>0.42864</td>\n",
       "      <td>0.59201</td>\n",
       "      <td>0.55191</td>\n",
       "      <td>0.22628</td>\n",
       "      <td>0.67042</td>\n",
       "    </tr>\n",
       "    <tr>\n",
       "      <th>154</th>\n",
       "      <td>Benin</td>\n",
       "      <td>Sub-Saharan Africa</td>\n",
       "      <td>155</td>\n",
       "      <td>3.340</td>\n",
       "      <td>0.03656</td>\n",
       "      <td>0.28665</td>\n",
       "      <td>0.35386</td>\n",
       "      <td>0.31910</td>\n",
       "      <td>0.48450</td>\n",
       "      <td>0.08010</td>\n",
       "      <td>0.18260</td>\n",
       "      <td>1.63328</td>\n",
       "    </tr>\n",
       "    <tr>\n",
       "      <th>155</th>\n",
       "      <td>Syria</td>\n",
       "      <td>Middle East and Northern Africa</td>\n",
       "      <td>156</td>\n",
       "      <td>3.006</td>\n",
       "      <td>0.05015</td>\n",
       "      <td>0.66320</td>\n",
       "      <td>0.47489</td>\n",
       "      <td>0.72193</td>\n",
       "      <td>0.15684</td>\n",
       "      <td>0.18906</td>\n",
       "      <td>0.47179</td>\n",
       "      <td>0.32858</td>\n",
       "    </tr>\n",
       "    <tr>\n",
       "      <th>156</th>\n",
       "      <td>Burundi</td>\n",
       "      <td>Sub-Saharan Africa</td>\n",
       "      <td>157</td>\n",
       "      <td>2.905</td>\n",
       "      <td>0.08658</td>\n",
       "      <td>0.01530</td>\n",
       "      <td>0.41587</td>\n",
       "      <td>0.22396</td>\n",
       "      <td>0.11850</td>\n",
       "      <td>0.10062</td>\n",
       "      <td>0.19727</td>\n",
       "      <td>1.83302</td>\n",
       "    </tr>\n",
       "    <tr>\n",
       "      <th>157</th>\n",
       "      <td>Togo</td>\n",
       "      <td>Sub-Saharan Africa</td>\n",
       "      <td>158</td>\n",
       "      <td>2.839</td>\n",
       "      <td>0.06727</td>\n",
       "      <td>0.20868</td>\n",
       "      <td>0.13995</td>\n",
       "      <td>0.28443</td>\n",
       "      <td>0.36453</td>\n",
       "      <td>0.10731</td>\n",
       "      <td>0.16681</td>\n",
       "      <td>1.56726</td>\n",
       "    </tr>\n",
       "  </tbody>\n",
       "</table>\n",
       "<p>158 rows × 12 columns</p>\n",
       "</div>"
      ],
      "text/plain": [
       "         Country                           Region  Happiness Rank  \\\n",
       "0    Switzerland                   Western Europe               1   \n",
       "1        Iceland                   Western Europe               2   \n",
       "2        Denmark                   Western Europe               3   \n",
       "3         Norway                   Western Europe               4   \n",
       "4         Canada                    North America               5   \n",
       "..           ...                              ...             ...   \n",
       "153       Rwanda               Sub-Saharan Africa             154   \n",
       "154        Benin               Sub-Saharan Africa             155   \n",
       "155        Syria  Middle East and Northern Africa             156   \n",
       "156      Burundi               Sub-Saharan Africa             157   \n",
       "157         Togo               Sub-Saharan Africa             158   \n",
       "\n",
       "     Happiness Score  Standard Error  Economy (GDP per Capita)   Family  \\\n",
       "0              7.587         0.03411                   1.39651  1.34951   \n",
       "1              7.561         0.04884                   1.30232  1.40223   \n",
       "2              7.527         0.03328                   1.32548  1.36058   \n",
       "3              7.522         0.03880                   1.45900  1.33095   \n",
       "4              7.427         0.03553                   1.32629  1.32261   \n",
       "..               ...             ...                       ...      ...   \n",
       "153            3.465         0.03464                   0.22208  0.77370   \n",
       "154            3.340         0.03656                   0.28665  0.35386   \n",
       "155            3.006         0.05015                   0.66320  0.47489   \n",
       "156            2.905         0.08658                   0.01530  0.41587   \n",
       "157            2.839         0.06727                   0.20868  0.13995   \n",
       "\n",
       "     Health (Life Expectancy)  Freedom  Trust (Government Corruption)  \\\n",
       "0                     0.94143  0.66557                        0.41978   \n",
       "1                     0.94784  0.62877                        0.14145   \n",
       "2                     0.87464  0.64938                        0.48357   \n",
       "3                     0.88521  0.66973                        0.36503   \n",
       "4                     0.90563  0.63297                        0.32957   \n",
       "..                        ...      ...                            ...   \n",
       "153                   0.42864  0.59201                        0.55191   \n",
       "154                   0.31910  0.48450                        0.08010   \n",
       "155                   0.72193  0.15684                        0.18906   \n",
       "156                   0.22396  0.11850                        0.10062   \n",
       "157                   0.28443  0.36453                        0.10731   \n",
       "\n",
       "     Generosity  Dystopia Residual  \n",
       "0       0.29678            2.51738  \n",
       "1       0.43630            2.70201  \n",
       "2       0.34139            2.49204  \n",
       "3       0.34699            2.46531  \n",
       "4       0.45811            2.45176  \n",
       "..          ...                ...  \n",
       "153     0.22628            0.67042  \n",
       "154     0.18260            1.63328  \n",
       "155     0.47179            0.32858  \n",
       "156     0.19727            1.83302  \n",
       "157     0.16681            1.56726  \n",
       "\n",
       "[158 rows x 12 columns]"
      ]
     },
     "execution_count": 123,
     "metadata": {},
     "output_type": "execute_result"
    }
   ],
   "source": [
    "df = pd.read_csv('https://raw.githubusercontent.com/dsrscientist/DSData/master/happiness_score_dataset.csv')\n",
    "df"
   ]
  },
  {
   "cell_type": "code",
   "execution_count": 126,
   "id": "d7a62921",
   "metadata": {},
   "outputs": [],
   "source": [
    "\n",
    "\n",
    "df['first_five_letters'] = df['Country'].apply(lambda x: x[:5])"
   ]
  },
  {
   "cell_type": "code",
   "execution_count": 127,
   "id": "3ea1da6d",
   "metadata": {},
   "outputs": [
    {
     "data": {
      "text/html": [
       "<div>\n",
       "<style scoped>\n",
       "    .dataframe tbody tr th:only-of-type {\n",
       "        vertical-align: middle;\n",
       "    }\n",
       "\n",
       "    .dataframe tbody tr th {\n",
       "        vertical-align: top;\n",
       "    }\n",
       "\n",
       "    .dataframe thead th {\n",
       "        text-align: right;\n",
       "    }\n",
       "</style>\n",
       "<table border=\"1\" class=\"dataframe\">\n",
       "  <thead>\n",
       "    <tr style=\"text-align: right;\">\n",
       "      <th></th>\n",
       "      <th>Country</th>\n",
       "      <th>Region</th>\n",
       "      <th>Happiness Rank</th>\n",
       "      <th>Happiness Score</th>\n",
       "      <th>Standard Error</th>\n",
       "      <th>Economy (GDP per Capita)</th>\n",
       "      <th>Family</th>\n",
       "      <th>Health (Life Expectancy)</th>\n",
       "      <th>Freedom</th>\n",
       "      <th>Trust (Government Corruption)</th>\n",
       "      <th>Generosity</th>\n",
       "      <th>Dystopia Residual</th>\n",
       "      <th>first_five_letters</th>\n",
       "    </tr>\n",
       "  </thead>\n",
       "  <tbody>\n",
       "    <tr>\n",
       "      <th>0</th>\n",
       "      <td>Switzerland</td>\n",
       "      <td>Western Europe</td>\n",
       "      <td>1</td>\n",
       "      <td>7.587</td>\n",
       "      <td>0.03411</td>\n",
       "      <td>1.39651</td>\n",
       "      <td>1.34951</td>\n",
       "      <td>0.94143</td>\n",
       "      <td>0.66557</td>\n",
       "      <td>0.41978</td>\n",
       "      <td>0.29678</td>\n",
       "      <td>2.51738</td>\n",
       "      <td>Switz</td>\n",
       "    </tr>\n",
       "    <tr>\n",
       "      <th>1</th>\n",
       "      <td>Iceland</td>\n",
       "      <td>Western Europe</td>\n",
       "      <td>2</td>\n",
       "      <td>7.561</td>\n",
       "      <td>0.04884</td>\n",
       "      <td>1.30232</td>\n",
       "      <td>1.40223</td>\n",
       "      <td>0.94784</td>\n",
       "      <td>0.62877</td>\n",
       "      <td>0.14145</td>\n",
       "      <td>0.43630</td>\n",
       "      <td>2.70201</td>\n",
       "      <td>Icela</td>\n",
       "    </tr>\n",
       "    <tr>\n",
       "      <th>2</th>\n",
       "      <td>Denmark</td>\n",
       "      <td>Western Europe</td>\n",
       "      <td>3</td>\n",
       "      <td>7.527</td>\n",
       "      <td>0.03328</td>\n",
       "      <td>1.32548</td>\n",
       "      <td>1.36058</td>\n",
       "      <td>0.87464</td>\n",
       "      <td>0.64938</td>\n",
       "      <td>0.48357</td>\n",
       "      <td>0.34139</td>\n",
       "      <td>2.49204</td>\n",
       "      <td>Denma</td>\n",
       "    </tr>\n",
       "    <tr>\n",
       "      <th>3</th>\n",
       "      <td>Norway</td>\n",
       "      <td>Western Europe</td>\n",
       "      <td>4</td>\n",
       "      <td>7.522</td>\n",
       "      <td>0.03880</td>\n",
       "      <td>1.45900</td>\n",
       "      <td>1.33095</td>\n",
       "      <td>0.88521</td>\n",
       "      <td>0.66973</td>\n",
       "      <td>0.36503</td>\n",
       "      <td>0.34699</td>\n",
       "      <td>2.46531</td>\n",
       "      <td>Norwa</td>\n",
       "    </tr>\n",
       "    <tr>\n",
       "      <th>4</th>\n",
       "      <td>Canada</td>\n",
       "      <td>North America</td>\n",
       "      <td>5</td>\n",
       "      <td>7.427</td>\n",
       "      <td>0.03553</td>\n",
       "      <td>1.32629</td>\n",
       "      <td>1.32261</td>\n",
       "      <td>0.90563</td>\n",
       "      <td>0.63297</td>\n",
       "      <td>0.32957</td>\n",
       "      <td>0.45811</td>\n",
       "      <td>2.45176</td>\n",
       "      <td>Canad</td>\n",
       "    </tr>\n",
       "    <tr>\n",
       "      <th>...</th>\n",
       "      <td>...</td>\n",
       "      <td>...</td>\n",
       "      <td>...</td>\n",
       "      <td>...</td>\n",
       "      <td>...</td>\n",
       "      <td>...</td>\n",
       "      <td>...</td>\n",
       "      <td>...</td>\n",
       "      <td>...</td>\n",
       "      <td>...</td>\n",
       "      <td>...</td>\n",
       "      <td>...</td>\n",
       "      <td>...</td>\n",
       "    </tr>\n",
       "    <tr>\n",
       "      <th>153</th>\n",
       "      <td>Rwanda</td>\n",
       "      <td>Sub-Saharan Africa</td>\n",
       "      <td>154</td>\n",
       "      <td>3.465</td>\n",
       "      <td>0.03464</td>\n",
       "      <td>0.22208</td>\n",
       "      <td>0.77370</td>\n",
       "      <td>0.42864</td>\n",
       "      <td>0.59201</td>\n",
       "      <td>0.55191</td>\n",
       "      <td>0.22628</td>\n",
       "      <td>0.67042</td>\n",
       "      <td>Rwand</td>\n",
       "    </tr>\n",
       "    <tr>\n",
       "      <th>154</th>\n",
       "      <td>Benin</td>\n",
       "      <td>Sub-Saharan Africa</td>\n",
       "      <td>155</td>\n",
       "      <td>3.340</td>\n",
       "      <td>0.03656</td>\n",
       "      <td>0.28665</td>\n",
       "      <td>0.35386</td>\n",
       "      <td>0.31910</td>\n",
       "      <td>0.48450</td>\n",
       "      <td>0.08010</td>\n",
       "      <td>0.18260</td>\n",
       "      <td>1.63328</td>\n",
       "      <td>Benin</td>\n",
       "    </tr>\n",
       "    <tr>\n",
       "      <th>155</th>\n",
       "      <td>Syria</td>\n",
       "      <td>Middle East and Northern Africa</td>\n",
       "      <td>156</td>\n",
       "      <td>3.006</td>\n",
       "      <td>0.05015</td>\n",
       "      <td>0.66320</td>\n",
       "      <td>0.47489</td>\n",
       "      <td>0.72193</td>\n",
       "      <td>0.15684</td>\n",
       "      <td>0.18906</td>\n",
       "      <td>0.47179</td>\n",
       "      <td>0.32858</td>\n",
       "      <td>Syria</td>\n",
       "    </tr>\n",
       "    <tr>\n",
       "      <th>156</th>\n",
       "      <td>Burundi</td>\n",
       "      <td>Sub-Saharan Africa</td>\n",
       "      <td>157</td>\n",
       "      <td>2.905</td>\n",
       "      <td>0.08658</td>\n",
       "      <td>0.01530</td>\n",
       "      <td>0.41587</td>\n",
       "      <td>0.22396</td>\n",
       "      <td>0.11850</td>\n",
       "      <td>0.10062</td>\n",
       "      <td>0.19727</td>\n",
       "      <td>1.83302</td>\n",
       "      <td>Burun</td>\n",
       "    </tr>\n",
       "    <tr>\n",
       "      <th>157</th>\n",
       "      <td>Togo</td>\n",
       "      <td>Sub-Saharan Africa</td>\n",
       "      <td>158</td>\n",
       "      <td>2.839</td>\n",
       "      <td>0.06727</td>\n",
       "      <td>0.20868</td>\n",
       "      <td>0.13995</td>\n",
       "      <td>0.28443</td>\n",
       "      <td>0.36453</td>\n",
       "      <td>0.10731</td>\n",
       "      <td>0.16681</td>\n",
       "      <td>1.56726</td>\n",
       "      <td>Togo</td>\n",
       "    </tr>\n",
       "  </tbody>\n",
       "</table>\n",
       "<p>158 rows × 13 columns</p>\n",
       "</div>"
      ],
      "text/plain": [
       "         Country                           Region  Happiness Rank  \\\n",
       "0    Switzerland                   Western Europe               1   \n",
       "1        Iceland                   Western Europe               2   \n",
       "2        Denmark                   Western Europe               3   \n",
       "3         Norway                   Western Europe               4   \n",
       "4         Canada                    North America               5   \n",
       "..           ...                              ...             ...   \n",
       "153       Rwanda               Sub-Saharan Africa             154   \n",
       "154        Benin               Sub-Saharan Africa             155   \n",
       "155        Syria  Middle East and Northern Africa             156   \n",
       "156      Burundi               Sub-Saharan Africa             157   \n",
       "157         Togo               Sub-Saharan Africa             158   \n",
       "\n",
       "     Happiness Score  Standard Error  Economy (GDP per Capita)   Family  \\\n",
       "0              7.587         0.03411                   1.39651  1.34951   \n",
       "1              7.561         0.04884                   1.30232  1.40223   \n",
       "2              7.527         0.03328                   1.32548  1.36058   \n",
       "3              7.522         0.03880                   1.45900  1.33095   \n",
       "4              7.427         0.03553                   1.32629  1.32261   \n",
       "..               ...             ...                       ...      ...   \n",
       "153            3.465         0.03464                   0.22208  0.77370   \n",
       "154            3.340         0.03656                   0.28665  0.35386   \n",
       "155            3.006         0.05015                   0.66320  0.47489   \n",
       "156            2.905         0.08658                   0.01530  0.41587   \n",
       "157            2.839         0.06727                   0.20868  0.13995   \n",
       "\n",
       "     Health (Life Expectancy)  Freedom  Trust (Government Corruption)  \\\n",
       "0                     0.94143  0.66557                        0.41978   \n",
       "1                     0.94784  0.62877                        0.14145   \n",
       "2                     0.87464  0.64938                        0.48357   \n",
       "3                     0.88521  0.66973                        0.36503   \n",
       "4                     0.90563  0.63297                        0.32957   \n",
       "..                        ...      ...                            ...   \n",
       "153                   0.42864  0.59201                        0.55191   \n",
       "154                   0.31910  0.48450                        0.08010   \n",
       "155                   0.72193  0.15684                        0.18906   \n",
       "156                   0.22396  0.11850                        0.10062   \n",
       "157                   0.28443  0.36453                        0.10731   \n",
       "\n",
       "     Generosity  Dystopia Residual first_five_letters  \n",
       "0       0.29678            2.51738              Switz  \n",
       "1       0.43630            2.70201              Icela  \n",
       "2       0.34139            2.49204              Denma  \n",
       "3       0.34699            2.46531              Norwa  \n",
       "4       0.45811            2.45176              Canad  \n",
       "..          ...                ...                ...  \n",
       "153     0.22628            0.67042              Rwand  \n",
       "154     0.18260            1.63328              Benin  \n",
       "155     0.47179            0.32858              Syria  \n",
       "156     0.19727            1.83302              Burun  \n",
       "157     0.16681            1.56726               Togo  \n",
       "\n",
       "[158 rows x 13 columns]"
      ]
     },
     "execution_count": 127,
     "metadata": {},
     "output_type": "execute_result"
    }
   ],
   "source": [
    "df"
   ]
  },
  {
   "cell_type": "markdown",
   "id": "0e41be82",
   "metadata": {},
   "source": [
    "Question 11- Write a Python program to match a string that contains only upper and lowercase letters, numbers, and underscores.\n",
    "\n"
   ]
  },
  {
   "cell_type": "code",
   "execution_count": 128,
   "id": "95caabc8",
   "metadata": {},
   "outputs": [
    {
     "name": "stdout",
     "output_type": "stream",
     "text": [
      "The string contains only specified characters\n"
     ]
    }
   ],
   "source": [
    "import re\n",
    "\n",
    "pattern = r'^[a-zA-Z_0-9]+$'\n",
    "strings = [\"Weather=bad\",\"Moody\",\"FEELS LIKE SNOWY\", \"Temp_0\"]\n",
    "for a in strings:\n",
    "    result = re.findall(pattern,a)\n",
    "if result :\n",
    "    print(\"The string contains only specified characters\")\n",
    "else:\n",
    "    print(\"The string contains invalid characters\")\n"
   ]
  },
  {
   "cell_type": "markdown",
   "id": "09a95c61",
   "metadata": {},
   "source": [
    "Question 12- Write a Python program where a string will start with a specific number. "
   ]
  },
  {
   "cell_type": "code",
   "execution_count": 129,
   "id": "e040d799",
   "metadata": {},
   "outputs": [
    {
     "name": "stdout",
     "output_type": "stream",
     "text": [
      "<re.Match object; span=(0, 4), match='4dx '>\n"
     ]
    }
   ],
   "source": [
    "import re\n",
    "\n",
    "pattern = r'^[4]+\\w+.'\n",
    "strings = (\"4dx cinema is funloaded\")\n",
    "result = re.search(pattern, strings)\n",
    "print (result)"
   ]
  },
  {
   "cell_type": "markdown",
   "id": "98ca1165",
   "metadata": {},
   "source": [
    "Question 13- Write a Python program to remove leading zeros from an IP address"
   ]
  },
  {
   "cell_type": "code",
   "execution_count": 131,
   "id": "bca9b31d",
   "metadata": {},
   "outputs": [
    {
     "name": "stdout",
     "output_type": "stream",
     "text": [
      "IP address without leading zeros: 18.383.1.4\n"
     ]
    }
   ],
   "source": [
    "import re\n",
    "\n",
    "pattern = r'\\b0+(\\d+)\\b'\n",
    "ip_add = \"018.383.001.004\"\n",
    "result = re.sub(pattern, r'\\1', ip_add)\n",
    "print(\"IP address without leading zeros:\", result)"
   ]
  },
  {
   "cell_type": "markdown",
   "id": "07dddd1d",
   "metadata": {},
   "source": [
    "Question 14- Write a regular expression in python to match a date string in the form of Month name followed by day number and year stored in a text file.\n",
    "Sample text :  ' On August 15th 1947 that India was declared independent from British colonialism, and the reins of control were handed over to the leaders of the Country’.\n",
    "Expected Output- August 15th 1947\n",
    "Note- Store given sample text in the text file and then extract the date string asked format\n"
   ]
  },
  {
   "cell_type": "code",
   "execution_count": 132,
   "id": "d6079e2d",
   "metadata": {},
   "outputs": [
    {
     "name": "stdout",
     "output_type": "stream",
     "text": [
      "August 15th 1947\n"
     ]
    }
   ],
   "source": [
    "import re\n",
    "\n",
    "with open (\"C:\\\\Users\\\\VIV\\\\OneDrive\\\\Documents\\\\date example.txt\", 'r') as file:\n",
    "    for line in file:\n",
    "        pattern = r'([A-Z][a-z]+ (\\d{1,2})(st|rd|nd|th) (\\d{4}))'\n",
    "        result = re.search(pattern,line)\n",
    "        if result:\n",
    "            match = result.group()\n",
    "            print (match)\n",
    "            \n",
    "        else:\n",
    "            print(\"No match found\")"
   ]
  },
  {
   "cell_type": "markdown",
   "id": "1008490e",
   "metadata": {},
   "source": [
    "Question 15- Write a Python program to search some literals strings in a string. \n",
    "Sample text : 'The quick brown fox jumps over the lazy dog.'\n",
    "Searched words : 'fox', 'dog', 'horse'\n"
   ]
  },
  {
   "cell_type": "code",
   "execution_count": 135,
   "id": "4d78a36f",
   "metadata": {},
   "outputs": [
    {
     "name": "stdout",
     "output_type": "stream",
     "text": [
      "foxis found\n",
      "dogis found\n",
      "horseis not found in the string\n"
     ]
    }
   ],
   "source": [
    "string = 'The quick brown fox jumps over the lazy dog.'\n",
    "searchh = ['fox','dog','horse']\n",
    "\n",
    "for word in searchh:\n",
    "    if word in string:\n",
    "        print(f\"{word}is found\")\n",
    "    else:\n",
    "        print(f\"{word}is not found in the string\")"
   ]
  },
  {
   "cell_type": "markdown",
   "id": "77606f46",
   "metadata": {},
   "source": [
    "Question 16- Write a Python program to search a literals string in a string and also find the location within the original string where the pattern occurs\n",
    "Sample text : 'The quick brown fox jumps over the lazy dog.'\n",
    "Searched words : 'fox'\n"
   ]
  },
  {
   "cell_type": "code",
   "execution_count": 136,
   "id": "88bafaa1",
   "metadata": {},
   "outputs": [
    {
     "name": "stdout",
     "output_type": "stream",
     "text": [
      "<re.Match object; span=(16, 19), match='fox'>\n",
      "location of the match: 16\n"
     ]
    }
   ],
   "source": [
    "string =  'The quick brown fox jumps over the lazy dog.'\n",
    "my_search = 'fox'\n",
    "\n",
    "result = re.search(my_search,string)\n",
    "print(result)\n",
    "final_result = result.start()\n",
    "print(\"location of the match:\", final_result)"
   ]
  },
  {
   "cell_type": "markdown",
   "id": "d94cecd1",
   "metadata": {},
   "source": [
    "Question 17- Write a Python program to find the substrings within a string.\n",
    "Sample text : 'Python exercises, PHP exercises, C# exercises'\n",
    "Pattern : 'exercises'\n"
   ]
  },
  {
   "cell_type": "code",
   "execution_count": 137,
   "id": "b6233c49",
   "metadata": {},
   "outputs": [
    {
     "name": "stdout",
     "output_type": "stream",
     "text": [
      "['exercises', 'exercises', 'exercises']\n"
     ]
    }
   ],
   "source": [
    "sample_text = 'Python exercises, PHP exercises, C# exercises'\n",
    "pattern = 'exercises'\n",
    "\n",
    "result = re.findall(pattern,sample_text)\n",
    "print(result)"
   ]
  },
  {
   "cell_type": "markdown",
   "id": "b99a1ec0",
   "metadata": {},
   "source": [
    "Question 18- Write a Python program to find the occurrence and position of the substrings within a string."
   ]
  },
  {
   "cell_type": "code",
   "execution_count": 138,
   "id": "648fe572",
   "metadata": {},
   "outputs": [
    {
     "name": "stdout",
     "output_type": "stream",
     "text": [
      "SUBSTRING:exercises, Start Position:7, End Position:16\n",
      "SUBSTRING:exercises, Start Position:22, End Position:31\n",
      "SUBSTRING:exercises, Start Position:36, End Position:45\n"
     ]
    }
   ],
   "source": [
    "import re\n",
    "sample_text = 'Python exercises, PHP exercises, C# exercises'\n",
    "pattern = 'exercises'\n",
    "\n",
    "for match in re.finditer(pattern,sample_text):\n",
    "    substring = match.group()\n",
    "    start= match.start()\n",
    "    end= match.end()\n",
    "    result = (f\"SUBSTRING:{substring}, Start Position:{start}, End Position:{end}\")\n",
    "    print(result)"
   ]
  },
  {
   "cell_type": "markdown",
   "id": "7de26130",
   "metadata": {},
   "source": [
    "Question 19- Write a Python program to convert a date of yyyy-mm-dd format to dd-mm-yyyy format"
   ]
  },
  {
   "cell_type": "code",
   "execution_count": 139,
   "id": "37f019eb",
   "metadata": {},
   "outputs": [
    {
     "name": "stdout",
     "output_type": "stream",
     "text": [
      "Given format: 2023-10-08 00:00:00\n",
      "Corrected Format: 08-10-2023\n"
     ]
    }
   ],
   "source": [
    "from datetime import datetime\n",
    "a = '2023-10-08'\n",
    "given_format = datetime.strptime(a, '%Y-%m-%d')\n",
    "corrected_format = given_format.strftime('%d-%m-%Y')\n",
    "print(\"Given format:\", given_format)\n",
    "print(\"Corrected Format:\", corrected_format)"
   ]
  },
  {
   "cell_type": "markdown",
   "id": "2e3d2db8",
   "metadata": {},
   "source": [
    "Question 20- Create a function in python to find all decimal numbers with a precision of 1 or 2 in a string. The use of the re.compile() method is mandatory.\n",
    "Sample Text: \"01.12 0132.123 2.31875 145.8 3.01 27.25 0.25\"\n",
    "Expected Output: ['01.12', '145.8', '3.01', '27.25', '0.25']\n"
   ]
  },
  {
   "cell_type": "code",
   "execution_count": 140,
   "id": "301855bf",
   "metadata": {},
   "outputs": [
    {
     "name": "stdout",
     "output_type": "stream",
     "text": [
      "['01.12', '145.8', '3.01', '27.25', '0.25']\n"
     ]
    }
   ],
   "source": [
    "def myfun(decimals):\n",
    "    pattern = re.compile(r'\\b\\d+\\.\\d{1,2}\\b')\n",
    "    result = pattern.findall(decimals)\n",
    "    return result\n",
    "decimals = \"01.12 0132.123 2.31875 145.8 3.01 27.25 0.25\"\n",
    "final_result = myfun(decimals)\n",
    "print(final_result)"
   ]
  },
  {
   "cell_type": "markdown",
   "id": "266e0ff6",
   "metadata": {},
   "source": [
    "Question 21- Write a Python program to separate and print the numbers and their position of a given string."
   ]
  },
  {
   "cell_type": "code",
   "execution_count": 142,
   "id": "65de8829",
   "metadata": {},
   "outputs": [
    {
     "name": "stdout",
     "output_type": "stream",
     "text": [
      "Numbers in the string: 300\n",
      "Position: 11\n"
     ]
    }
   ],
   "source": [
    "numbers = re.search(r'\\d+', string)\n",
    "string = \" There are 300 computers in the shop\"\n",
    "extract = numbers.group()\n",
    "position = numbers.start()\n",
    "\n",
    "print(\"Numbers in the string:\", extract)\n",
    "print(\"Position:\", position)"
   ]
  },
  {
   "cell_type": "markdown",
   "id": "9a97e178",
   "metadata": {},
   "source": [
    "Question 22- Write a regular expression in python program to extract maximum/largest numeric value from a string.\n",
    "Sample Text:  'My marks in each semester are: 947, 896, 926, 524, 734, 950, 642'\n",
    "Expected Output: 950\n"
   ]
  },
  {
   "cell_type": "code",
   "execution_count": 143,
   "id": "ee74e3f7",
   "metadata": {},
   "outputs": [
    {
     "name": "stdout",
     "output_type": "stream",
     "text": [
      "950\n"
     ]
    }
   ],
   "source": [
    "sample =  'My marks in each semester are: 947, 896, 926, 524, 734, 950, 642'\n",
    "pattern = r'\\b\\d+\\b'\n",
    "\n",
    "given_value = list(map(int, re.findall(pattern,sample)))\n",
    "maximum_value = max(given_value)\n",
    "\n",
    "print(maximum_value)"
   ]
  },
  {
   "cell_type": "markdown",
   "id": "374e8cfc",
   "metadata": {},
   "source": [
    "Question 23- Create a function in python to insert spaces between words starting with capital letters.\n",
    "Sample Text: “RegularExpressionIsAnImportantTopicInPython\"\n",
    "Expected Output: Regular Expression Is An Important Topic In Python\n"
   ]
  },
  {
   "cell_type": "code",
   "execution_count": 144,
   "id": "be0a6842",
   "metadata": {},
   "outputs": [
    {
     "name": "stdout",
     "output_type": "stream",
     "text": [
      "Regular Expression Is An Important Topic In Python\n"
     ]
    }
   ],
   "source": [
    "def myfun(text):\n",
    "    pattern = r'([A-Z][a-z]*)'\n",
    "    sample = re.sub(pattern, r' \\1', text)\n",
    "    sample= sample.strip()\n",
    "    return sample\n",
    "sample_text = \"RegularExpressionIsAnImportantTopicInPython\"\n",
    "result = myfun(sample_text)\n",
    "print(result)"
   ]
  },
  {
   "cell_type": "markdown",
   "id": "45cd70de",
   "metadata": {},
   "source": [
    "Question 24- Python regex to find sequences of one upper case letter followed by lower case letters"
   ]
  },
  {
   "cell_type": "code",
   "execution_count": 145,
   "id": "01e6e9f2",
   "metadata": {},
   "outputs": [
    {
     "name": "stdout",
     "output_type": "stream",
     "text": [
      "['It', 'Is', 'Going', 'To', 'Be', 'Rainy', 'Tomorrrow']\n"
     ]
    }
   ],
   "source": [
    "def myfun(text):\n",
    "    pattern = r'([A-Z][a-z]+)'\n",
    "    method = re.findall(pattern,text)\n",
    "    return method\n",
    "string = \"It Is Going To Be A Rainy dy Tomorrrow\"\n",
    "output = myfun(string)\n",
    "print(output)"
   ]
  },
  {
   "cell_type": "markdown",
   "id": "d4ac5dc0",
   "metadata": {},
   "source": [
    "Question 25- Write a Python program to remove continuous duplicate words from Sentence using Regular Expression.\n",
    "Sample Text: \"Hello hello world world\"\n",
    "Expected Output: Hello hello world\n"
   ]
  },
  {
   "cell_type": "code",
   "execution_count": 146,
   "id": "f0fc31d3",
   "metadata": {},
   "outputs": [
    {
     "name": "stdout",
     "output_type": "stream",
     "text": [
      "Hello world\n"
     ]
    }
   ],
   "source": [
    "def myfun(text):\n",
    "    pattern = r'\\b(\\w+)(?:\\W+\\1\\b)+'\n",
    "    method = re.sub(pattern, r'\\1', text, flags = re.IGNORECASE)\n",
    "    return method\n",
    "sample_text = \"Hello hello world world\"\n",
    "output_text = myfun(sample_text)\n",
    "print(output_text)"
   ]
  },
  {
   "cell_type": "markdown",
   "id": "3e71b694",
   "metadata": {},
   "source": [
    "Question 26- Write a python program using RegEx to accept string ending with alphanumeric character.\n"
   ]
  },
  {
   "cell_type": "code",
   "execution_count": 150,
   "id": "a610a2f5",
   "metadata": {},
   "outputs": [
    {
     "name": "stdout",
     "output_type": "stream",
     "text": [
      "HelloWorld ending with alphanumeric\n",
      "HelloWorld! does not end with alphanumeric\n"
     ]
    }
   ],
   "source": [
    "\n",
    "strings = \"HelloWorld\",\"HelloWorld!\"\n",
    "pattern = r'\\w$'\n",
    "for string in strings:\n",
    "    output = re.findall(pattern,string)\n",
    "\n",
    "    if output:\n",
    "        print(f\"{string} ending with alphanumeric\")\n",
    "    else:\n",
    "        print(f\"{string} does not end with alphanumeric\")"
   ]
  },
  {
   "cell_type": "markdown",
   "id": "098084ce",
   "metadata": {},
   "source": [
    "Question 27-Write a python program using RegEx to extract the hashtags. Sample Text: \"\"\"RT @kapil_kausik: #Doltiwal I mean #xyzabc is \"hurt\" by #Demonetization as the same has rendered USELESS <U+00A0><U+00BD><U+00B1><U+0089> \"acquired funds\" No wo\"\"\""
   ]
  },
  {
   "cell_type": "code",
   "execution_count": 151,
   "id": "abc7beaa",
   "metadata": {},
   "outputs": [
    {
     "name": "stdout",
     "output_type": "stream",
     "text": [
      "['#Doltiwal', '#xyzabc', '#Demonetization']\n"
     ]
    }
   ],
   "source": [
    "sample =  \"\"\"RT @kapil_kausik: #Doltiwal I mean #xyzabc is \"hurt\" by #Demonetization as the same has rendered USELESS <U+00A0><U+00BD><U+00B1><U+0089> \"acquired funds\" No wo\"\"\"\n",
    "pattern = r'#\\w+'\n",
    "result = re.findall(pattern,sample)\n",
    "print(result)"
   ]
  },
  {
   "cell_type": "markdown",
   "id": "1532b708",
   "metadata": {},
   "source": [
    "Question 28- Write a python program using RegEx to remove <U+..> like symbols Check the below sample text, there are strange symbols something of the sort <U+..> all over the place. You need to come up with a general Regex expression that will cover all such symbols. Sample Text: \"@Jags123456 Bharat band on 28??<U+00A0><U+00BD><U+00B8><U+0082>Those who are protesting #demonetization are all different party leaders\""
   ]
  },
  {
   "cell_type": "code",
   "execution_count": 152,
   "id": "cb99eb1b",
   "metadata": {},
   "outputs": [
    {
     "name": "stdout",
     "output_type": "stream",
     "text": [
      "@Jags123456 Bharat band on 28??<ed><ed>Those who  are protesting #demonetization  are all different party leaders\n"
     ]
    }
   ],
   "source": [
    "string = \"@Jags123456 Bharat band on 28??<ed><U+00A0><U+00BD><ed><U+00B8><U+0082>Those who  are protesting #demonetization  are all different party leaders\"\n",
    "pattern = r'<U\\+\\w+>'\n",
    "result = re.sub(pattern, '', string)\n",
    "print(result)"
   ]
  },
  {
   "cell_type": "markdown",
   "id": "78b37c66",
   "metadata": {},
   "source": [
    "Question 29- Write a python program to extract dates from the text stored in the text file."
   ]
  },
  {
   "cell_type": "code",
   "execution_count": 153,
   "id": "7b486f66",
   "metadata": {},
   "outputs": [
    {
     "name": "stdout",
     "output_type": "stream",
     "text": [
      "['12-09-1992', '15-12-1999']\n",
      "[]\n",
      "[]\n"
     ]
    }
   ],
   "source": [
    "import re\n",
    "with open (\"C:\\\\Users\\\\VIV\\\\OneDrive\\\\Documents\\\\29th ques.txt\", 'r' ) as file:\n",
    "    for line in file:\n",
    "        pattern =  re.compile(r'(\\d{2,4}-\\d{2,4}-\\d{2,4})+')\n",
    "        output = pattern.findall(line)\n",
    "        print(output)"
   ]
  },
  {
   "cell_type": "markdown",
   "id": "d4f5d526",
   "metadata": {},
   "source": [
    "Question 30- Create a function in python to remove all words from a string of length between 2 and 4. The use of the re.compile() method is mandatory. Sample Text: \"The following example creates an ArrayList with a capacity of 50 elements. 4 elements are then added to the ArrayList and the ArrayList is trimmed accordingly.\""
   ]
  },
  {
   "cell_type": "code",
   "execution_count": 154,
   "id": "1e3520af",
   "metadata": {},
   "outputs": [
    {
     "name": "stdout",
     "output_type": "stream",
     "text": [
      " following example creates  ArrayList  a capacity   elements. 4 elements   added   ArrayList   ArrayList  trimmed accordingly.\n"
     ]
    }
   ],
   "source": [
    "def myfun(text):\n",
    "    pattern = re.compile(r'\\b\\w{2,4}\\b')\n",
    "    method = re.sub(pattern, '', text)\n",
    "    return method\n",
    "sample =  \"The following example creates an ArrayList with a capacity of 50 elements. 4 elements are then added to the ArrayList and the ArrayList is trimmed accordingly.\"\n",
    "result = myfun(sample)\n",
    "print(result)"
   ]
  },
  {
   "cell_type": "code",
   "execution_count": null,
   "id": "b0239aa5",
   "metadata": {},
   "outputs": [],
   "source": []
  }
 ],
 "metadata": {
  "kernelspec": {
   "display_name": "Python 3 (ipykernel)",
   "language": "python",
   "name": "python3"
  },
  "language_info": {
   "codemirror_mode": {
    "name": "ipython",
    "version": 3
   },
   "file_extension": ".py",
   "mimetype": "text/x-python",
   "name": "python",
   "nbconvert_exporter": "python",
   "pygments_lexer": "ipython3",
   "version": "3.11.3"
  }
 },
 "nbformat": 4,
 "nbformat_minor": 5
}
