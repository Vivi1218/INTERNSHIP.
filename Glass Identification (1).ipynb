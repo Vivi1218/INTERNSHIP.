{
 "cells": [
  {
   "cell_type": "markdown",
   "id": "1f141898",
   "metadata": {},
   "source": [
    "# Glass identification"
   ]
  },
  {
   "cell_type": "code",
   "execution_count": 22,
   "id": "f031903c",
   "metadata": {},
   "outputs": [
    {
     "name": "stdout",
     "output_type": "stream",
     "text": [
      "Accuracy: 0.7209302325581395\n",
      "     Actual  Predicted\n",
      "9         1          2\n",
      "197       7          7\n",
      "66        1          1\n",
      "191       7          7\n",
      "117       2          2\n",
      "111       2          2\n",
      "15        1          1\n",
      "86        2          2\n",
      "75        2          2\n",
      "144       2          2\n",
      "182       6          2\n",
      "170       5          2\n",
      "141       2          2\n",
      "73        2          2\n",
      "178       6          6\n",
      "167       5          5\n",
      "190       7          7\n",
      "18        1          2\n",
      "45        1          1\n",
      "184       7          2\n",
      "98        2          1\n",
      "208       7          7\n",
      "210       7          7\n",
      "195       7          7\n",
      "148       3          1\n",
      "104       2          5\n",
      "30        1          1\n",
      "25        1          1\n",
      "175       6          6\n",
      "16        1          1\n",
      "55        1          2\n",
      "138       2          2\n",
      "158       3          3\n",
      "93        2          2\n",
      "69        2          2\n",
      "202       7          7\n",
      "171       5          2\n",
      "152       3          3\n",
      "97        2          2\n",
      "84        2          2\n",
      "101       2          1\n",
      "200       7          2\n",
      "60        1          1\n"
     ]
    }
   ],
   "source": [
    "import pandas as pd\n",
    "from sklearn.model_selection import train_test_split\n",
    "from sklearn.ensemble import RandomForestClassifier\n",
    "from sklearn.metrics import accuracy_score\n",
    "\n",
    "\n",
    "glass_data = pd.read_csv(\"Glass Identification.csv\")\n",
    "\n",
    "correct_column_names = ['Id number', 'RI', 'Na', 'Mg', 'Al', 'Si', 'K', 'Ca', 'Ba', 'Fe', 'Type of glass']\n",
    "\n",
    "glass_data.columns = correct_column_names\n",
    "\n",
    "X = glass_data.drop(columns=['Id number', 'Type of glass'])\n",
    "y = glass_data['Type of glass']\n",
    "\n",
    "X_train, X_test, y_train, y_test = train_test_split(X, y, test_size=0.2, random_state=42)\n",
    "\n",
    "rf_classifier = RandomForestClassifier(n_estimators=100, random_state=42)\n",
    "\n",
    "rf_classifier.fit(X_train, y_train)\n",
    "\n",
    "y_pred = rf_classifier.predict(X_test)\n",
    "accuracy = accuracy_score(y_test, y_pred)\n",
    "print(\"Accuracy:\", accuracy)\n",
    "\n",
    "comparison_df = pd.DataFrame({'Actual': y_test, 'Predicted': y_pred})\n",
    "print(comparison_df)\n"
   ]
  }
 ],
 "metadata": {
  "kernelspec": {
   "display_name": "Python 3 (ipykernel)",
   "language": "python",
   "name": "python3"
  },
  "language_info": {
   "codemirror_mode": {
    "name": "ipython",
    "version": 3
   },
   "file_extension": ".py",
   "mimetype": "text/x-python",
   "name": "python",
   "nbconvert_exporter": "python",
   "pygments_lexer": "ipython3",
   "version": "3.11.3"
  }
 },
 "nbformat": 4,
 "nbformat_minor": 5
}
